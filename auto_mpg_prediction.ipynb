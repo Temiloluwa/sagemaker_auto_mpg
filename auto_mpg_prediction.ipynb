{
 "cells": [
  {
   "cell_type": "markdown",
   "metadata": {},
   "source": [
    "# Auto MPG prediction\n",
    "\n",
    "#### Install required versions of Sagemaker SDK and Experiments"
   ]
  },
  {
   "cell_type": "code",
   "execution_count": 1,
   "metadata": {},
   "outputs": [
    {
     "name": "stdout",
     "output_type": "stream",
     "text": [
      "\u001b[33mWARNING: Running pip as the 'root' user can result in broken permissions and conflicting behaviour with the system package manager. It is recommended to use a virtual environment instead: https://pip.pypa.io/warnings/venv\u001b[0m\u001b[33m\n",
      "\u001b[0m\n",
      "\u001b[1m[\u001b[0m\u001b[34;49mnotice\u001b[0m\u001b[1;39;49m]\u001b[0m\u001b[39;49m A new release of pip available: \u001b[0m\u001b[31;49m22.2.2\u001b[0m\u001b[39;49m -> \u001b[0m\u001b[32;49m22.3\u001b[0m\n",
      "\u001b[1m[\u001b[0m\u001b[34;49mnotice\u001b[0m\u001b[1;39;49m]\u001b[0m\u001b[39;49m To update, run: \u001b[0m\u001b[32;49mpip install --upgrade pip\u001b[0m\n",
      "Note: you may need to restart the kernel to use updated packages.\n",
      "Requirement already satisfied: sagemaker-experiments in /opt/conda/lib/python3.7/site-packages (0.1.39)\n",
      "Requirement already satisfied: boto3>=1.16.27 in /opt/conda/lib/python3.7/site-packages (from sagemaker-experiments) (1.24.62)\n",
      "Requirement already satisfied: botocore<1.28.0,>=1.27.62 in /opt/conda/lib/python3.7/site-packages (from boto3>=1.16.27->sagemaker-experiments) (1.27.62)\n",
      "Requirement already satisfied: jmespath<2.0.0,>=0.7.1 in /opt/conda/lib/python3.7/site-packages (from boto3>=1.16.27->sagemaker-experiments) (1.0.1)\n",
      "Requirement already satisfied: s3transfer<0.7.0,>=0.6.0 in /opt/conda/lib/python3.7/site-packages (from boto3>=1.16.27->sagemaker-experiments) (0.6.0)\n",
      "Requirement already satisfied: python-dateutil<3.0.0,>=2.1 in /opt/conda/lib/python3.7/site-packages (from botocore<1.28.0,>=1.27.62->boto3>=1.16.27->sagemaker-experiments) (2.8.1)\n",
      "Requirement already satisfied: urllib3<1.27,>=1.25.4 in /opt/conda/lib/python3.7/site-packages (from botocore<1.28.0,>=1.27.62->boto3>=1.16.27->sagemaker-experiments) (1.26.12)\n",
      "Requirement already satisfied: six>=1.5 in /opt/conda/lib/python3.7/site-packages (from python-dateutil<3.0.0,>=2.1->botocore<1.28.0,>=1.27.62->boto3>=1.16.27->sagemaker-experiments) (1.14.0)\n",
      "\u001b[33mWARNING: Running pip as the 'root' user can result in broken permissions and conflicting behaviour with the system package manager. It is recommended to use a virtual environment instead: https://pip.pypa.io/warnings/venv\u001b[0m\u001b[33m\n",
      "\u001b[0m\n",
      "\u001b[1m[\u001b[0m\u001b[34;49mnotice\u001b[0m\u001b[1;39;49m]\u001b[0m\u001b[39;49m A new release of pip available: \u001b[0m\u001b[31;49m22.2.2\u001b[0m\u001b[39;49m -> \u001b[0m\u001b[32;49m22.3\u001b[0m\n",
      "\u001b[1m[\u001b[0m\u001b[34;49mnotice\u001b[0m\u001b[1;39;49m]\u001b[0m\u001b[39;49m To update, run: \u001b[0m\u001b[32;49mpip install --upgrade pip\u001b[0m\n",
      "Note: you may need to restart the kernel to use updated packages.\n"
     ]
    }
   ],
   "source": [
    "%pip install -U sagemaker>=2.15\n",
    "%pip install sagemaker-experiments"
   ]
  },
  {
   "cell_type": "markdown",
   "metadata": {},
   "source": [
    "### Intiailize Sagemaker session and Sagemaker boto3 client"
   ]
  },
  {
   "cell_type": "code",
   "execution_count": 2,
   "metadata": {},
   "outputs": [],
   "source": [
    "import requests\n",
    "import boto3\n",
    "import sagemaker\n",
    "from sagemaker import get_execution_role\n",
    "from io import StringIO"
   ]
  },
  {
   "cell_type": "code",
   "execution_count": 3,
   "metadata": {},
   "outputs": [
    {
     "name": "stdout",
     "output_type": "stream",
     "text": [
      "Using default bucket:  sagemaker-us-east-1-392525434032\n",
      "Using  Region:  us-east-1\n",
      "Using execution Role:  arn:aws:iam::392525434032:role/service-role/AmazonSageMaker-ExecutionRole-20220310T175822\n"
     ]
    }
   ],
   "source": [
    "# initialize sagemaker session \n",
    "sess = sagemaker.Session()\n",
    "region = sess.boto_session.region_name\n",
    "bucket = sess.default_bucket() \n",
    "role = get_execution_role()\n",
    "\n",
    "# boto3 client\n",
    "sm_client = boto3.client('sagemaker')\n",
    "\n",
    "print(\"Using default bucket: \", bucket)\n",
    "print(\"Using  Region: \", region)\n",
    "print(\"Using execution Role: \", role)"
   ]
  },
  {
   "cell_type": "markdown",
   "metadata": {},
   "source": [
    "### Import Python Libraries"
   ]
  },
  {
   "cell_type": "code",
   "execution_count": 4,
   "metadata": {},
   "outputs": [],
   "source": [
    "import os\n",
    "import json\n",
    "import time\n",
    "import matplotlib.pyplot as plt\n",
    "import numpy as np\n",
    "import pandas as pd"
   ]
  },
  {
   "cell_type": "markdown",
   "metadata": {},
   "source": [
    "## Define S3 bucket prefixes for Data and Models"
   ]
  },
  {
   "cell_type": "code",
   "execution_count": 5,
   "metadata": {},
   "outputs": [],
   "source": [
    "prefix = \"auto_mpg\"\n",
    "\n",
    "# raw data path\n",
    "raw_train_prefix = f\"{prefix}/data/bronze/train\"\n",
    "raw_val_prefix = f\"{prefix}/data/bronze/val\"\n",
    "raw_test_prefix = f\"{prefix}/data/bronze/test\"\n",
    "\n",
    "# preprocessed features path\n",
    "pp_train_prefix = f\"{prefix}/data/gold/train\"\n",
    "pp_val_prefix = f\"{prefix}/data/gold/val\"\n",
    "pp_test_prefix = f\"{prefix}/data/gold/test\"\n",
    "\n",
    "# preprocessor and ml models\n",
    "pp_model_prefix = f\"{prefix}/models/preprocessor\"\n",
    "ml_model_prefix = f\"{prefix}/models/ml\"\n",
    "\n",
    "\n",
    "def get_s3_path(prefix, bucket=bucket):\n",
    "    \"\"\" get full path in s3 \"\"\"\n",
    "    return f\"s3://{bucket}/{prefix}\"\n"
   ]
  },
  {
   "cell_type": "markdown",
   "metadata": {},
   "source": [
    "### Upload Raw Data to S3\n",
    "\n",
    "In this step we perform the following\n",
    "1. Download the Raw Data\n",
    "2. Split it into train and test\n",
    "3. Upload to s3"
   ]
  },
  {
   "cell_type": "code",
   "execution_count": 6,
   "metadata": {},
   "outputs": [],
   "source": [
    "def upload_raw_data_to_s3(sess,\n",
    "                          raw_train_prefix=raw_train_prefix,\n",
    "                          raw_val_prefix=raw_val_prefix,\n",
    "                          raw_test_prefix=raw_test_prefix, \n",
    "                          split=0.8):\n",
    "    \"\"\"\n",
    "    Read MPG dataset, peform train test split, then upload to s3\n",
    "    \"\"\"\n",
    "    # filenames\n",
    "    train_fn = \"train.csv\"\n",
    "    val_fn = \"val.csv\"\n",
    "    test_fn = \"test.csv\"\n",
    "    \n",
    "    # download data\n",
    "    data_url = \"https://archive.ics.uci.edu/ml/machine-learning-databases/auto-mpg/auto-mpg.data\"\n",
    "    res = requests.get(data_url)\n",
    "    file = StringIO(res.text)\n",
    "    \n",
    "    # read data\n",
    "    data = pd.read_csv(file, header = None, delimiter = '\\s+', low_memory = False, na_values = \"?\")\n",
    "    data_frame = data.drop(columns = 8)\n",
    "    data_frame = data_frame.fillna(data_frame.mean())\n",
    "    data_frame = data_frame.rename(index = int, columns = {0: \"mpg\", 1:\"cylinders\", 2: \"displacement\",3: \"horsepower\", 4: \"weight\", 5:\"acceleration\",6:\"model year\",7:\"origin\"})\n",
    "    \n",
    "    # train - test - split\n",
    "    train_df = data_frame.sample(frac=split)\n",
    "    test_df = data_frame.drop(train_df.index)\n",
    "    \n",
    "    # take the last 10 rows of test_df as the test data and the \n",
    "    val_df = test_df[:-10]\n",
    "    test_df = test_df[-10:]\n",
    "    \n",
    "    assert set(list(train_df.index)).intersection(list(test_df.index)) == set([]), \"overlap between train and test\"\n",
    "    \n",
    "    # save data locally and upload data to s3\n",
    "    train_df.to_csv(train_fn, index=False, sep=',', encoding='utf-8')\n",
    "    train_path = sess.upload_data(path=train_fn, bucket=bucket, key_prefix=raw_train_prefix)\n",
    "    \n",
    "    val_df.to_csv(val_fn, index=False, sep=',', encoding='utf-8')\n",
    "    val_path = sess.upload_data(path=val_fn, bucket=bucket, key_prefix=raw_val_prefix)\n",
    "    \n",
    "    test_df.to_csv(test_fn, index=False, sep=',', encoding='utf-8')\n",
    "    test_path = sess.upload_data(path=test_fn, bucket=bucket, key_prefix=raw_test_prefix)\n",
    "    \n",
    "    # delete local versions of the data\n",
    "    os.remove(train_fn)\n",
    "    os.remove(val_fn)\n",
    "    os.remove(test_fn)\n",
    "    \n",
    "    print(\"Path to raw train data:\", train_path)\n",
    "    print(\"Path to raw val data:\", val_path)\n",
    "    print(\"Path to raw test data:\", test_path)\n",
    "    \n",
    "    return train_path, val_path, test_path"
   ]
  },
  {
   "cell_type": "code",
   "execution_count": 7,
   "metadata": {},
   "outputs": [
    {
     "name": "stdout",
     "output_type": "stream",
     "text": [
      "Path to raw train data: s3://sagemaker-us-east-1-392525434032/auto_mpg/data/bronze/train/train.csv\n",
      "Path to raw val data: s3://sagemaker-us-east-1-392525434032/auto_mpg/data/bronze/val/val.csv\n",
      "Path to raw test data: s3://sagemaker-us-east-1-392525434032/auto_mpg/data/bronze/test/test.csv\n"
     ]
    }
   ],
   "source": [
    "train_path, val_path, test_path = upload_raw_data_to_s3(sess)"
   ]
  },
  {
   "cell_type": "markdown",
   "metadata": {},
   "source": [
    "## Preprocess Data"
   ]
  },
  {
   "cell_type": "code",
   "execution_count": 8,
   "metadata": {},
   "outputs": [
    {
     "name": "stdout",
     "output_type": "stream",
     "text": [
      "\n",
      "Job Name:  auto-mpg-feature-eng-30-Oct-2022-11-34--2022-10-30-11-34-22-698\n",
      "Inputs:  [{'InputName': 'input-1', 'AppManaged': False, 'S3Input': {'S3Uri': 's3://sagemaker-us-east-1-392525434032/auto_mpg/data/bronze/train', 'LocalPath': '/opt/ml/processing/input/train', 'S3DataType': 'S3Prefix', 'S3InputMode': 'File', 'S3DataDistributionType': 'FullyReplicated', 'S3CompressionType': 'None'}}, {'InputName': 'input-2', 'AppManaged': False, 'S3Input': {'S3Uri': 's3://sagemaker-us-east-1-392525434032/auto_mpg/data/bronze/val', 'LocalPath': '/opt/ml/processing/input/test', 'S3DataType': 'S3Prefix', 'S3InputMode': 'File', 'S3DataDistributionType': 'FullyReplicated', 'S3CompressionType': 'None'}}, {'InputName': 'code', 'AppManaged': False, 'S3Input': {'S3Uri': 's3://sagemaker-us-east-1-392525434032/auto-mpg-feature-eng-30-Oct-2022-11-34--2022-10-30-11-34-22-698/source/sourcedir.tar.gz', 'LocalPath': '/opt/ml/processing/input/code/', 'S3DataType': 'S3Prefix', 'S3InputMode': 'File', 'S3DataDistributionType': 'FullyReplicated', 'S3CompressionType': 'None'}}, {'InputName': 'entrypoint', 'AppManaged': False, 'S3Input': {'S3Uri': 's3://sagemaker-us-east-1-392525434032/auto-mpg-feature-eng-30-Oct-2022-11-34--2022-10-30-11-34-22-698/source/runproc.sh', 'LocalPath': '/opt/ml/processing/input/entrypoint', 'S3DataType': 'S3Prefix', 'S3InputMode': 'File', 'S3DataDistributionType': 'FullyReplicated', 'S3CompressionType': 'None'}}]\n",
      "Outputs:  [{'OutputName': 'train_features', 'AppManaged': False, 'S3Output': {'S3Uri': 's3://sagemaker-us-east-1-392525434032/auto_mpg/data/gold/train', 'LocalPath': '/opt/ml/processing/train', 'S3UploadMode': 'EndOfJob'}}, {'OutputName': 'val_features', 'AppManaged': False, 'S3Output': {'S3Uri': 's3://sagemaker-us-east-1-392525434032/auto_mpg/data/gold/val', 'LocalPath': '/opt/ml/processing/test', 'S3UploadMode': 'EndOfJob'}}, {'OutputName': 'preprocessor_model', 'AppManaged': False, 'S3Output': {'S3Uri': 's3://sagemaker-us-east-1-392525434032/auto_mpg/models/preprocessor', 'LocalPath': '/opt/ml/processing/output', 'S3UploadMode': 'EndOfJob'}}]\n",
      "...........................\n",
      ".."
     ]
    }
   ],
   "source": [
    "# use framework preprocessor to use custom dependencies\n",
    "# there is no provision for custom dependences with sklearn preprocessor\n",
    "# https://github.com/aws/amazon-sagemaker-examples/blob/main/sagemaker_processing/scikit_learn_data_processing_and_model_evaluation/scikit_learn_data_processing_and_model_evaluation.ipynb\n",
    "from datetime import datetime\n",
    "from sagemaker.sklearn.estimator import SKLearn\n",
    "from sagemaker.processing import FrameworkProcessor\n",
    "from sagemaker.processing import ProcessingInput, ProcessingOutput\n",
    "\n",
    "current_time = datetime.now().strftime(\"%d-%b-%Y-%H:%M:%S\").replace(\":\", \"-\")\n",
    "TRAIN_FN = 'train.csv'\n",
    "VAL_FN = 'val.csv'\n",
    "TRAIN_FEATS_FN = 'train_feats.npy'\n",
    "VAL_FEATS_FN = 'val_feats.npy'\n",
    "\n",
    "\n",
    "sklearn_processor = FrameworkProcessor(\n",
    "    base_job_name=f\"auto-mpg-feature-eng-{current_time}\",\n",
    "    framework_version=\"1.0-1\",\n",
    "    role=role,\n",
    "    instance_type=\"ml.m5.xlarge\",\n",
    "    instance_count=1,\n",
    "    estimator_cls=SKLearn\n",
    ")\n",
    "\n",
    "sklearn_processor.run(\n",
    "    code=\"train.py\",\n",
    "    source_dir=\"scripts/preprocessor/\",\n",
    "    inputs=[\n",
    "        ProcessingInput(source=get_s3_path(raw_train_prefix), destination=\"/opt/ml/processing/input/train\"),\n",
    "        ProcessingInput(source=get_s3_path(raw_val_prefix), destination=\"/opt/ml/processing/input/test\")\n",
    "    ],\n",
    "    outputs=[\n",
    "        ProcessingOutput(output_name=\"train_features\", source=\"/opt/ml/processing/train\", destination=get_s3_path(pp_train_prefix)),\n",
    "        ProcessingOutput(output_name=\"val_features\", source=\"/opt/ml/processing/test\", destination=get_s3_path(pp_val_prefix)),\n",
    "        ProcessingOutput(output_name=\"preprocessor_model\", source=\"/opt/ml/processing/output\", destination=get_s3_path(pp_model_prefix)),\n",
    "    ],\n",
    "    arguments=[\"--train-filename\", TRAIN_FN,\n",
    "               \"--test-filename\", VAL_FN,\n",
    "               \"--train-feats-filename\", TRAIN_FEATS_FN,\n",
    "               \"--test-feats-filename\", VAL_FEATS_FN],\n",
    ")"
   ]
  },
  {
   "cell_type": "markdown",
   "metadata": {},
   "source": [
    "## Train Model"
   ]
  },
  {
   "cell_type": "code",
   "execution_count": 9,
   "metadata": {},
   "outputs": [],
   "source": [
    "from smexperiments.experiment import Experiment\n",
    "from smexperiments.trial import Trial\n",
    "from smexperiments.trial_component import TrialComponent\n",
    "from smexperiments.tracker import Tracker"
   ]
  },
  {
   "cell_type": "code",
   "execution_count": 31,
   "metadata": {},
   "outputs": [
    {
     "name": "stdout",
     "output_type": "stream",
     "text": [
      "experiment auto-mg-experiment was loaded\n"
     ]
    }
   ],
   "source": [
    "current_time = datetime.now().strftime(\"%d-%b-%Y-%H:%M:%S\").replace(\":\", \"-\")\n",
    "experiment_name = \"auto-mg-experiment\"\n",
    "try:\n",
    "    auto_experiment = Experiment.load(experiment_name=experiment_name)\n",
    "    print(f'experiment {experiment_name} was loaded')\n",
    "except Exception as ex:\n",
    "    if \"ResourceNotFound\" in str(ex):\n",
    "        auto_experiment = Experiment.create(experiment_name = experiment_name,\n",
    "                                            description = \"Regression on Auto MPG dataset\",\n",
    "                                            tags = [{'Key': 'Name', 'Value': f\"auto-mg-experiment-{current_time}\"},\n",
    "                                                    {'Key': 'MLEngineer', 'Value': f\"Temiloluwa Adeoti\"},\n",
    "                                                   ])\n",
    "        print(f'experiment {experiment_name} was created')\n"
   ]
  },
  {
   "cell_type": "code",
   "execution_count": 34,
   "metadata": {},
   "outputs": [
    {
     "name": "stderr",
     "output_type": "stream",
     "text": [
      "INFO:sagemaker.image_uris:Defaulting to the only supported framework/algorithm version: latest.\n",
      "INFO:sagemaker.image_uris:Ignoring unnecessary instance type: None.\n",
      "INFO:sagemaker:Creating training-job with name: auto-mpg-30-Oct-2022-13-08-48\n"
     ]
    },
    {
     "name": "stdout",
     "output_type": "stream",
     "text": [
      "2022-10-30 13:08:48 Starting - Starting the training job...\n",
      "2022-10-30 13:09:11 Starting - Preparing the instances for trainingProfilerReport-1667135328: InProgress\n",
      ".........\n",
      "2022-10-30 13:10:31 Downloading - Downloading input data...\n",
      "2022-10-30 13:11:12 Training - Downloading the training image...\n",
      "2022-10-30 13:11:45 Uploading - Uploading generated training model\u001b[34m2022-10-30 13:11:37,728 sagemaker-containers INFO     Imported framework sagemaker_sklearn_container.training\u001b[0m\n",
      "\u001b[34m2022-10-30 13:11:37,732 sagemaker-training-toolkit INFO     No GPUs detected (normal if no gpus installed)\u001b[0m\n",
      "\u001b[34m2022-10-30 13:11:37,740 sagemaker_sklearn_container.training INFO     Invoking user training script.\u001b[0m\n",
      "\u001b[34m2022-10-30 13:11:38,149 sagemaker-training-toolkit INFO     No GPUs detected (normal if no gpus installed)\u001b[0m\n",
      "\u001b[34m2022-10-30 13:11:38,161 sagemaker-training-toolkit INFO     No GPUs detected (normal if no gpus installed)\u001b[0m\n",
      "\u001b[34m2022-10-30 13:11:38,176 sagemaker-training-toolkit INFO     No GPUs detected (normal if no gpus installed)\u001b[0m\n",
      "\u001b[34m2022-10-30 13:11:38,185 sagemaker-training-toolkit INFO     Invoking user script\u001b[0m\n",
      "\u001b[34mTraining Env:\u001b[0m\n",
      "\u001b[34m{\n",
      "    \"additional_framework_parameters\": {},\n",
      "    \"channel_input_dirs\": {\n",
      "        \"test\": \"/opt/ml/input/data/test\",\n",
      "        \"train\": \"/opt/ml/input/data/train\"\n",
      "    },\n",
      "    \"current_host\": \"algo-1\",\n",
      "    \"framework_module\": \"sagemaker_sklearn_container.training:main\",\n",
      "    \"hosts\": [\n",
      "        \"algo-1\"\n",
      "    ],\n",
      "    \"hyperparameters\": {\n",
      "        \"n_estimators\": 10\n",
      "    },\n",
      "    \"input_config_dir\": \"/opt/ml/input/config\",\n",
      "    \"input_data_config\": {\n",
      "        \"test\": {\n",
      "            \"TrainingInputMode\": \"File\",\n",
      "            \"S3DistributionType\": \"FullyReplicated\",\n",
      "            \"RecordWrapperType\": \"None\"\n",
      "        },\n",
      "        \"train\": {\n",
      "            \"TrainingInputMode\": \"File\",\n",
      "            \"S3DistributionType\": \"FullyReplicated\",\n",
      "            \"RecordWrapperType\": \"None\"\n",
      "        }\n",
      "    },\n",
      "    \"input_dir\": \"/opt/ml/input\",\n",
      "    \"is_master\": true,\n",
      "    \"job_name\": \"auto-mpg-30-Oct-2022-13-08-48\",\n",
      "    \"log_level\": 20,\n",
      "    \"master_hostname\": \"algo-1\",\n",
      "    \"model_dir\": \"/opt/ml/model\",\n",
      "    \"module_dir\": \"s3://sagemaker-us-east-1-392525434032/auto-mpg-30-Oct-2022-13-08-48/source/sourcedir.tar.gz\",\n",
      "    \"module_name\": \"train\",\n",
      "    \"network_interface_name\": \"eth0\",\n",
      "    \"num_cpus\": 4,\n",
      "    \"num_gpus\": 0,\n",
      "    \"output_data_dir\": \"/opt/ml/output/data\",\n",
      "    \"output_dir\": \"/opt/ml/output\",\n",
      "    \"output_intermediate_dir\": \"/opt/ml/output/intermediate\",\n",
      "    \"resource_config\": {\n",
      "        \"current_host\": \"algo-1\",\n",
      "        \"current_instance_type\": \"ml.m5.xlarge\",\n",
      "        \"current_group_name\": \"homogeneousCluster\",\n",
      "        \"hosts\": [\n",
      "            \"algo-1\"\n",
      "        ],\n",
      "        \"instance_groups\": [\n",
      "            {\n",
      "                \"instance_group_name\": \"homogeneousCluster\",\n",
      "                \"instance_type\": \"ml.m5.xlarge\",\n",
      "                \"hosts\": [\n",
      "                    \"algo-1\"\n",
      "                ]\n",
      "            }\n",
      "        ],\n",
      "        \"network_interface_name\": \"eth0\"\n",
      "    },\n",
      "    \"user_entry_point\": \"train.py\"\u001b[0m\n",
      "\u001b[34m}\u001b[0m\n",
      "\u001b[34mEnvironment variables:\u001b[0m\n",
      "\u001b[34mSM_HOSTS=[\"algo-1\"]\u001b[0m\n",
      "\u001b[34mSM_NETWORK_INTERFACE_NAME=eth0\u001b[0m\n",
      "\u001b[34mSM_HPS={\"n_estimators\":10}\u001b[0m\n",
      "\u001b[34mSM_USER_ENTRY_POINT=train.py\u001b[0m\n",
      "\u001b[34mSM_FRAMEWORK_PARAMS={}\u001b[0m\n",
      "\u001b[34mSM_RESOURCE_CONFIG={\"current_group_name\":\"homogeneousCluster\",\"current_host\":\"algo-1\",\"current_instance_type\":\"ml.m5.xlarge\",\"hosts\":[\"algo-1\"],\"instance_groups\":[{\"hosts\":[\"algo-1\"],\"instance_group_name\":\"homogeneousCluster\",\"instance_type\":\"ml.m5.xlarge\"}],\"network_interface_name\":\"eth0\"}\u001b[0m\n",
      "\u001b[34mSM_INPUT_DATA_CONFIG={\"test\":{\"RecordWrapperType\":\"None\",\"S3DistributionType\":\"FullyReplicated\",\"TrainingInputMode\":\"File\"},\"train\":{\"RecordWrapperType\":\"None\",\"S3DistributionType\":\"FullyReplicated\",\"TrainingInputMode\":\"File\"}}\u001b[0m\n",
      "\u001b[34mSM_OUTPUT_DATA_DIR=/opt/ml/output/data\u001b[0m\n",
      "\u001b[34mSM_CHANNELS=[\"test\",\"train\"]\u001b[0m\n",
      "\u001b[34mSM_CURRENT_HOST=algo-1\u001b[0m\n",
      "\u001b[34mSM_MODULE_NAME=train\u001b[0m\n",
      "\u001b[34mSM_LOG_LEVEL=20\u001b[0m\n",
      "\u001b[34mSM_FRAMEWORK_MODULE=sagemaker_sklearn_container.training:main\u001b[0m\n",
      "\u001b[34mSM_INPUT_DIR=/opt/ml/input\u001b[0m\n",
      "\u001b[34mSM_INPUT_CONFIG_DIR=/opt/ml/input/config\u001b[0m\n",
      "\u001b[34mSM_OUTPUT_DIR=/opt/ml/output\u001b[0m\n",
      "\u001b[34mSM_NUM_CPUS=4\u001b[0m\n",
      "\u001b[34mSM_NUM_GPUS=0\u001b[0m\n",
      "\u001b[34mSM_MODEL_DIR=/opt/ml/model\u001b[0m\n",
      "\u001b[34mSM_MODULE_DIR=s3://sagemaker-us-east-1-392525434032/auto-mpg-30-Oct-2022-13-08-48/source/sourcedir.tar.gz\u001b[0m\n",
      "\u001b[34mSM_TRAINING_ENV={\"additional_framework_parameters\":{},\"channel_input_dirs\":{\"test\":\"/opt/ml/input/data/test\",\"train\":\"/opt/ml/input/data/train\"},\"current_host\":\"algo-1\",\"framework_module\":\"sagemaker_sklearn_container.training:main\",\"hosts\":[\"algo-1\"],\"hyperparameters\":{\"n_estimators\":10},\"input_config_dir\":\"/opt/ml/input/config\",\"input_data_config\":{\"test\":{\"RecordWrapperType\":\"None\",\"S3DistributionType\":\"FullyReplicated\",\"TrainingInputMode\":\"File\"},\"train\":{\"RecordWrapperType\":\"None\",\"S3DistributionType\":\"FullyReplicated\",\"TrainingInputMode\":\"File\"}},\"input_dir\":\"/opt/ml/input\",\"is_master\":true,\"job_name\":\"auto-mpg-30-Oct-2022-13-08-48\",\"log_level\":20,\"master_hostname\":\"algo-1\",\"model_dir\":\"/opt/ml/model\",\"module_dir\":\"s3://sagemaker-us-east-1-392525434032/auto-mpg-30-Oct-2022-13-08-48/source/sourcedir.tar.gz\",\"module_name\":\"train\",\"network_interface_name\":\"eth0\",\"num_cpus\":4,\"num_gpus\":0,\"output_data_dir\":\"/opt/ml/output/data\",\"output_dir\":\"/opt/ml/output\",\"output_intermediate_dir\":\"/opt/ml/output/intermediate\",\"resource_config\":{\"current_group_name\":\"homogeneousCluster\",\"current_host\":\"algo-1\",\"current_instance_type\":\"ml.m5.xlarge\",\"hosts\":[\"algo-1\"],\"instance_groups\":[{\"hosts\":[\"algo-1\"],\"instance_group_name\":\"homogeneousCluster\",\"instance_type\":\"ml.m5.xlarge\"}],\"network_interface_name\":\"eth0\"},\"user_entry_point\":\"train.py\"}\u001b[0m\n",
      "\u001b[34mSM_USER_ARGS=[\"--n_estimators\",\"10\"]\u001b[0m\n",
      "\u001b[34mSM_OUTPUT_INTERMEDIATE_DIR=/opt/ml/output/intermediate\u001b[0m\n",
      "\u001b[34mSM_CHANNEL_TEST=/opt/ml/input/data/test\u001b[0m\n",
      "\u001b[34mSM_CHANNEL_TRAIN=/opt/ml/input/data/train\u001b[0m\n",
      "\u001b[34mSM_HP_N_ESTIMATORS=10\u001b[0m\n",
      "\u001b[34mPYTHONPATH=/opt/ml/code:/miniconda3/bin:/miniconda3/lib/python38.zip:/miniconda3/lib/python3.8:/miniconda3/lib/python3.8/lib-dynload:/miniconda3/lib/python3.8/site-packages\u001b[0m\n",
      "\u001b[34mInvoking script with the following command:\u001b[0m\n",
      "\u001b[34m/miniconda3/bin/python train.py --n_estimators 10\u001b[0m\n",
      "\u001b[34m2022-10-30 13:11:39,457 __main__     DEBUG    Number of Estimators: 10\u001b[0m\n",
      "\u001b[34m2022-10-30 13:11:39,615 __main__     INFO     Model Trained \u001b[0m\n",
      "\u001b[34m2022-10-30 13:11:39,637 __main__     INFO     train_mae=0.7628772122780205;  test_mae=1.1458412677265313;\u001b[0m\n",
      "\u001b[34m2022-10-30 13:11:39,637 __main__     INFO     train_mse=1.0896272668478133;  test_mse=1.8114939136573736;\u001b[0m\n",
      "\u001b[34m2022-10-30 13:11:39,637 __main__     INFO     train_rmse=1.187287580658236; test_rmse=3.2815101992177076;\u001b[0m\n",
      "\u001b[34m2022-10-30 13:11:39,812 sagemaker-containers INFO     Reporting training SUCCESS\u001b[0m\n",
      "\n",
      "2022-10-30 13:12:12 Completed - Training job completed\n",
      "Training seconds: 87\n",
      "Billable seconds: 87\n"
     ]
    }
   ],
   "source": [
    "from sagemaker.sklearn.estimator import SKLearn\n",
    "\n",
    "current_time = datetime.now().strftime(\"%d-%b-%Y-%H:%M:%S\").replace(\":\", \"-\")\n",
    "n_estimators = 10\n",
    "trail_name = f\"auto-mg-{n_estimators}-estimators\"\n",
    "training_job_trial = Trial.create(trial_name = f\"{trail_name}-{current_time}\",\n",
    "                              experiment_name = auto_experiment.experiment_name,\n",
    "                              sagemaker_boto_client=sm_client,\n",
    "                              tags = [{'Key': 'Name', 'Value': f\"auto-mg-{current_time}\"},\n",
    "                                       {'Key': 'MLEngineer', 'Value': f\"Temiloluwa Adeoti\"}])\n",
    "model = SKLearn(\n",
    "    entry_point=\"train.py\",\n",
    "    source_dir=\"./scripts/model\",\n",
    "    framework_version=\"1.0-1\", \n",
    "    instance_type=\"ml.m5.xlarge\", \n",
    "    role=role,\n",
    "    output_path = get_s3_path(ml_model_prefix), # model output path\n",
    "    hyperparameters = {\n",
    "        \"n_estimators\": n_estimators\n",
    "    },\n",
    "    metric_definitions=[\n",
    "            {\"Name\": \"train:mae\", \"Regex\": \"train_mae=(.*?);\"},\n",
    "            {\"Name\": \"test:mae\", \"Regex\": \"test_mae=(.*?);\"},\n",
    "            {\"Name\": \"train:mse\", \"Regex\": \"train_mse=(.*?);\"},\n",
    "            {\"Name\": \"test:mse\", \"Regex\": \"test_mse=(.*?);\"},\n",
    "            {\"Name\": \"train:rmse\", \"Regex\": \"train_rmse=(.*?);\"},\n",
    "            {\"Name\": \"test:rmse\", \"Regex\": \"test_rmse=(.*?);\"},\n",
    "        ],\n",
    "    enable_sagemaker_metrics=True\n",
    ")\n",
    "\n",
    "\n",
    "model.fit(job_name=f\"auto-mpg-{current_time}\",\n",
    "          inputs = {\"train\": get_s3_path(pp_train_prefix), \n",
    "                    \"test\": get_s3_path(pp_val_prefix)\n",
    "                   }, \n",
    "          experiment_config={\n",
    "            \"TrialName\": training_job_trial.trial_name,\n",
    "            \"TrialComponentDisplayName\": f\"Training-auto-mg-run-{current_time}\",\n",
    "          },\n",
    "          logs=\"All\")"
   ]
  },
  {
   "cell_type": "markdown",
   "metadata": {},
   "source": [
    "## Inference Pipeline Model"
   ]
  },
  {
   "cell_type": "code",
   "execution_count": 76,
   "metadata": {},
   "outputs": [
    {
     "name": "stdout",
     "output_type": "stream",
     "text": [
      "preprocessor model path  s3://sagemaker-us-east-1-392525434032/auto_mpg/models/preprocessor/model.tar.gz\n"
     ]
    },
    {
     "name": "stderr",
     "output_type": "stream",
     "text": [
      "INFO:sagemaker:Creating model with name: inference-pipeline-30-Oct-2022-15-15-21\n",
      "INFO:sagemaker:Creating endpoint-config with name inference-pipeline-30-Oct-2022-15-15-21\n",
      "INFO:sagemaker:Creating endpoint with name inference-pipeline-30-Oct-2022-15-15-21\n"
     ]
    },
    {
     "name": "stdout",
     "output_type": "stream",
     "text": [
      "---------------!"
     ]
    }
   ],
   "source": [
    "from sagemaker.sklearn.model import SKLearnModel\n",
    "from sagemaker.pipeline import PipelineModel\n",
    "from sagemaker.serializers import CSVSerializer\n",
    "from datetime import datetime\n",
    "\n",
    "current_time = datetime.now().strftime(\"%d-%b-%Y-%H:%M:%S\").replace(\":\", \"-\")\n",
    "model_name = f\"inference-pipeline-{current_time}\"\n",
    "endpoint_name = f\"inference-pipeline-{current_time}\"\n",
    "pp_model_path = get_s3_path(pp_model_prefix) + \"/model.tar.gz\"\n",
    "\n",
    "print(\"preprocessor model path \", pp_model_path)\n",
    "\n",
    "# preprocessor\n",
    "sklearn_processor_model = SKLearnModel(\n",
    "                             model_data=pp_model_path,\n",
    "                             role=role,\n",
    "                             entry_point=\"scripts/preprocessor/inference.py\",\n",
    "                             dependencies=[\"scripts/preprocessor/custom_preprocessor.py\"],\n",
    "                             framework_version=\"1.0-1\",\n",
    "                             sagemaker_session=sess)\n",
    "\n",
    "# regression model\n",
    "reg_model = model.create_model(entry_point=\"inference.py\",\n",
    "                               source_dir=\"./scripts/model\")\n",
    "    \n",
    "inference_pipeline = PipelineModel(\n",
    "    name=model_name, role=role, models=[sklearn_processor_model, reg_model],\n",
    "    sagemaker_session=sess\n",
    ")\n",
    "\n",
    "predictor = inference_pipeline.deploy(initial_instance_count=1, \n",
    "                                      instance_type=\"ml.c4.xlarge\", \n",
    "                                      endpoint_name=endpoint_name,\n",
    "                                      serializer=CSVSerializer() # to ensure input is csv\n",
    "                                     )"
   ]
  },
  {
   "cell_type": "markdown",
   "metadata": {},
   "source": [
    "### Download Test Data From S3"
   ]
  },
  {
   "cell_type": "code",
   "execution_count": 88,
   "metadata": {},
   "outputs": [
    {
     "name": "stdout",
     "output_type": "stream",
     "text": [
      "['id: 0, raw_input: 39.0,4,86.0,64.0,1875.0,16.4,81,1\\n',\n",
      " 'id: 1, raw_input: 32.3,4,97.0,67.0,2065.0,17.8,81,3\\n',\n",
      " 'id: 2, raw_input: 32.9,4,119.0,100.0,2615.0,14.8,81,3\\n',\n",
      " 'id: 3, raw_input: 22.4,6,231.0,110.0,3415.0,15.8,81,1\\n',\n",
      " 'id: 4, raw_input: 29.0,4,135.0,84.0,2525.0,16.0,82,1\\n',\n",
      " 'id: 5, raw_input: 36.0,4,105.0,74.0,1980.0,15.3,82,2\\n',\n",
      " 'id: 6, raw_input: 36.0,4,98.0,70.0,2125.0,17.3,82,1\\n',\n",
      " 'id: 7, raw_input: 34.0,4,108.0,70.0,2245.0,16.9,82,3\\n',\n",
      " 'id: 8, raw_input: 32.0,4,91.0,67.0,1965.0,15.7,82,3\\n',\n",
      " 'id: 9, raw_input: 32.0,4,144.0,96.0,2665.0,13.9,82,3\\n']\n"
     ]
    }
   ],
   "source": [
    "from pprint import pprint\n",
    "\n",
    "sess.download_data(path=\".\", bucket=bucket, key_prefix=raw_test_prefix)\n",
    "with open(\"test.csv\", \"r\") as f:\n",
    "    test_data = f.readlines()[1:]\n",
    "\n",
    "pprint([f\"id: {i}, raw_input: {v}\" for i, v in enumerate(test_data)])"
   ]
  },
  {
   "cell_type": "markdown",
   "metadata": {},
   "source": [
    "### Make Predictions with predictor"
   ]
  },
  {
   "cell_type": "code",
   "execution_count": 93,
   "metadata": {},
   "outputs": [
    {
     "data": {
      "text/plain": [
       "[[{'id': 0, 'prediction': 34.96311893939394}]]"
      ]
     },
     "execution_count": 93,
     "metadata": {},
     "output_type": "execute_result"
    }
   ],
   "source": [
    "from sagemaker.predictor import Predictor\n",
    "from sagemaker.deserializers import JSONLinesDeserializer\n",
    "\n",
    "predictor = Predictor(\n",
    "    endpoint_name=endpoint_name, sagemaker_session=sess, serializer=CSVSerializer(), deserializer=JSONLinesDeserializer()\n",
    ")\n",
    "\n",
    "num_of_samples = 1\n",
    "response = predictor.predict(test_data[:num_of_samples])\n",
    "response"
   ]
  },
  {
   "cell_type": "markdown",
   "metadata": {},
   "source": [
    "### Clean Up"
   ]
  },
  {
   "cell_type": "code",
   "execution_count": 74,
   "metadata": {},
   "outputs": [],
   "source": [
    "# remove downloaded test data\n",
    "os.remove(\"test.csv\")\n",
    "# delete endpoint\n",
    "predictor.delete_endpoint()"
   ]
  }
 ],
 "metadata": {
  "instance_type": "ml.t3.medium",
  "kernelspec": {
   "display_name": "Python 3 (Data Science)",
   "language": "python",
   "name": "python3__SAGEMAKER_INTERNAL__arn:aws:sagemaker:us-east-1:081325390199:image/datascience-1.0"
  },
  "language_info": {
   "codemirror_mode": {
    "name": "ipython",
    "version": 3
   },
   "file_extension": ".py",
   "mimetype": "text/x-python",
   "name": "python",
   "nbconvert_exporter": "python",
   "pygments_lexer": "ipython3",
   "version": "3.7.10"
  }
 },
 "nbformat": 4,
 "nbformat_minor": 4
}
